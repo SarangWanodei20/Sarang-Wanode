{
  "cells": [
    {
      "cell_type": "markdown",
      "metadata": {
        "id": "view-in-github",
        "colab_type": "text"
      },
      "source": [
        "<a href=\"https://colab.research.google.com/github/SarangWanodei20/Sarang-Wanode/blob/main/Practice_Final_Exam.ipynb\" target=\"_parent\"><img src=\"https://colab.research.google.com/assets/colab-badge.svg\" alt=\"Open In Colab\"/></a>"
      ]
    },
    {
      "cell_type": "markdown",
      "source": [
        "Task 3: SQL for Data Analysis"
      ],
      "metadata": {
        "id": "xONdjar252t_"
      }
    },
    {
      "cell_type": "markdown",
      "source": [
        "a. Basic SELECT with WHERE, ORDER BY, GROUP BY"
      ],
      "metadata": {
        "id": "KPpWdafV5w1N"
      }
    },
    {
      "cell_type": "code",
      "source": [
        "-- Select all users who signed up after Jan 1, 2024, ordered by date\n",
        "SELECT user_id, name, created_at\n",
        "FROM users\n",
        "WHERE created_at > '2024-01-01'\n",
        "ORDER BY created_at DESC;\n"
      ],
      "metadata": {
        "id": "BU6UW9mXzq96"
      },
      "execution_count": null,
      "outputs": []
    },
    {
      "cell_type": "code",
      "execution_count": null,
      "metadata": {
        "id": "t5hUvGOLybEU"
      },
      "outputs": [],
      "source": [
        "-- Count number of orders per user\n",
        "SELECT user_id, COUNT(order_id) AS total_orders\n",
        "FROM orders\n",
        "GROUP BY user_id\n",
        "ORDER BY total_orders DESC;\n"
      ]
    },
    {
      "cell_type": "markdown",
      "source": [
        "Step 1: Create Tables"
      ],
      "metadata": {
        "id": "VBFv8idL0nOp"
      }
    },
    {
      "cell_type": "code",
      "source": [
        "-- USERS\n",
        "CREATE TABLE users (\n",
        "    user_id INT PRIMARY KEY,\n",
        "    name VARCHAR(100),\n",
        "    email VARCHAR(100),\n",
        "    created_at DATE\n",
        ");\n",
        "\n",
        "-- PRODUCTS\n",
        "CREATE TABLE products (\n",
        "    product_id INT PRIMARY KEY,\n",
        "    name VARCHAR(100),\n",
        "    category VARCHAR(50),\n",
        "    price DECIMAL(10, 2)\n",
        ");\n",
        "\n",
        "-- ORDERS\n",
        "CREATE TABLE orders (\n",
        "    order_id INT PRIMARY KEY,\n",
        "    user_id INT,\n",
        "    order_date DATE,\n",
        "    total_amount DECIMAL(10, 2),\n",
        "    FOREIGN KEY (user_id) REFERENCES users(user_id)\n",
        ");\n",
        "\n",
        "-- ORDER ITEMS\n",
        "CREATE TABLE order_items (\n",
        "    order_item_id INT PRIMARY KEY,\n",
        "    order_id INT,\n",
        "    product_id INT,\n",
        "    quantity INT,\n",
        "    price DECIMAL(10, 2),\n",
        "    FOREIGN KEY (order_id) REFERENCES orders(order_id),\n",
        "    FOREIGN KEY (product_id) REFERENCES products(product_id)\n",
        ");\n"
      ],
      "metadata": {
        "id": "DjIySiAg0eym"
      },
      "execution_count": null,
      "outputs": []
    },
    {
      "cell_type": "markdown",
      "source": [
        "b. Use JOINS (INNER, LEFT, RIGHT)"
      ],
      "metadata": {
        "id": "H8Mnh4Yj0tif"
      }
    },
    {
      "cell_type": "code",
      "source": [
        "-- Inner join to get order details with user info\n",
        "SELECT o.order_id, u.name, o.order_date, o.total_amount\n",
        "FROM orders o\n",
        "INNER JOIN users u ON o.user_id = u.user_id;\n"
      ],
      "metadata": {
        "id": "D1Avvt7-03Oj"
      },
      "execution_count": null,
      "outputs": []
    },
    {
      "cell_type": "code",
      "source": [
        "-- Left join to find users who haven't made any orders\n",
        "SELECT u.user_id, u.name\n",
        "FROM users u\n",
        "LEFT JOIN orders o ON u.user_id = o.user_id\n",
        "WHERE o.order_id IS NULL;\n"
      ],
      "metadata": {
        "id": "m5BEyMZK08HA"
      },
      "execution_count": null,
      "outputs": []
    },
    {
      "cell_type": "markdown",
      "source": [
        "Step 2: Insert Sample Data"
      ],
      "metadata": {
        "id": "QuTlFkf-1CAW"
      }
    },
    {
      "cell_type": "code",
      "source": [
        "-- USERS\n",
        "INSERT INTO users VALUES\n",
        "(1, 'Alice', 'alice@example.com', '2024-01-10'),\n",
        "(2, 'Bob', 'bob@example.com', '2024-03-15'),\n",
        "(3, 'Charlie', 'charlie@example.com', '2023-11-20');\n",
        "\n",
        "-- PRODUCTS\n",
        "INSERT INTO products VALUES\n",
        "(1, 'Laptop', 'Electronics', 1200.00),\n",
        "(2, 'Mouse', 'Electronics', 25.00),\n",
        "(3, 'Book', 'Books', 15.00);\n",
        "\n",
        "-- ORDERS\n",
        "INSERT INTO orders VALUES\n",
        "(101, 1, '2024-02-01', 1225.00),\n",
        "(102, 2, '2024-03-20', 40.00),\n",
        "(103, 1, '2024-04-01', 15.00);\n",
        "\n",
        "-- ORDER ITEMS\n",
        "INSERT INTO order_items VALUES\n",
        "(1, 101, 1, 1, 1200.00),\n",
        "(2, 101, 2, 1, 25.00),\n",
        "(3, 102, 2, 1, 25.00),\n",
        "(4, 102, 3, 1, 15.00),\n",
        "(5, 103, 3, 1, 15.00);\n"
      ],
      "metadata": {
        "id": "WvAer7Ak1H6K"
      },
      "execution_count": null,
      "outputs": []
    },
    {
      "cell_type": "markdown",
      "source": [
        "c. Write Subqueries\n",
        "sql\n",
        "Copy\n",
        "Edit\n"
      ],
      "metadata": {
        "id": "iU15-6Yg1LVL"
      }
    },
    {
      "cell_type": "code",
      "source": [
        "-- Get users who spent more than the average total amount\n",
        "SELECT name, user_id\n",
        "FROM users\n",
        "WHERE user_id IN (\n",
        "    SELECT user_id\n",
        "    FROM orders\n",
        "    GROUP BY user_id\n",
        "    HAVING SUM(total_amount) > (\n",
        "        SELECT AVG(total_amount) FROM orders\n",
        "    )\n",
        ");\n"
      ],
      "metadata": {
        "id": "Lngvm_g31U7Z"
      },
      "execution_count": null,
      "outputs": []
    },
    {
      "cell_type": "markdown",
      "source": [
        "Step 3: Queries with Outputs\n"
      ],
      "metadata": {
        "id": "NJdhnqOC1YhH"
      }
    },
    {
      "cell_type": "markdown",
      "source": [
        "a. Basic SELECT, WHERE, ORDER BY"
      ],
      "metadata": {
        "id": "I6Lahc8E1k_d"
      }
    },
    {
      "cell_type": "code",
      "source": [
        "-- Users who joined after Jan 1, 2024\n",
        "SELECT * FROM users\n",
        "WHERE created_at > '2024-01-01'\n",
        "ORDER BY created_at;\n"
      ],
      "metadata": {
        "id": "5HPQ-qou1nn9"
      },
      "execution_count": null,
      "outputs": []
    },
    {
      "cell_type": "markdown",
      "source": [
        "b. JOINs"
      ],
      "metadata": {
        "id": "W-1J19cK1quI"
      }
    },
    {
      "cell_type": "code",
      "source": [
        "-- Orders with user names\n",
        "SELECT o.order_id, u.name, o.total_amount\n",
        "FROM orders o\n",
        "JOIN users u ON o.user_id = u.user_id;\n"
      ],
      "metadata": {
        "id": "6A-sSv1I134P"
      },
      "execution_count": null,
      "outputs": []
    },
    {
      "cell_type": "markdown",
      "source": [
        "c. Subquery"
      ],
      "metadata": {
        "id": "6fBl40k82Gb7"
      }
    },
    {
      "cell_type": "code",
      "source": [
        "-- Users who spent more than average total order amount\n",
        "SELECT name FROM users\n",
        "WHERE user_id IN (\n",
        "    SELECT user_id FROM orders\n",
        "    GROUP BY user_id\n",
        "    HAVING SUM(total_amount) > (\n",
        "        SELECT AVG(total_amount) FROM orders\n",
        "    )\n",
        ");\n"
      ],
      "metadata": {
        "id": "sH4dpcJS2H8C"
      },
      "execution_count": null,
      "outputs": []
    },
    {
      "cell_type": "markdown",
      "source": [
        "d. Aggregate Function"
      ],
      "metadata": {
        "id": "P__d4p_o2YZ2"
      }
    },
    {
      "cell_type": "code",
      "source": [
        "-- Total revenue per category\n",
        "SELECT p.category, SUM(oi.quantity * oi.price) AS total_revenue\n",
        "FROM order_items oi\n",
        "JOIN products p ON oi.product_id = p.product_id\n",
        "GROUP BY p.category;\n"
      ],
      "metadata": {
        "id": "IGlhc3Us2ryI"
      },
      "execution_count": null,
      "outputs": []
    },
    {
      "cell_type": "markdown",
      "source": [
        "e. Create View"
      ],
      "metadata": {
        "id": "VTBzeoPm2gj9"
      }
    },
    {
      "cell_type": "code",
      "source": [
        "-- Create a view for user spending\n",
        "CREATE VIEW user_spending AS\n",
        "SELECT user_id, SUM(total_amount) AS total_spent\n",
        "FROM orders\n",
        "GROUP BY user_id;\n",
        "\n",
        "-- Query the view\n",
        "SELECT * FROM user_spending;\n"
      ],
      "metadata": {
        "id": "tJXZdlry23D9"
      },
      "execution_count": null,
      "outputs": []
    },
    {
      "cell_type": "markdown",
      "source": [
        "f. Optimize Query (Index)"
      ],
      "metadata": {
        "id": "WS3kSufh2-mM"
      }
    },
    {
      "cell_type": "code",
      "source": [
        "-- Add index to improve performance\n",
        "CREATE INDEX idx_user_id ON orders(user_id);\n"
      ],
      "metadata": {
        "id": "Ppb9GLEQ3EI1"
      },
      "execution_count": null,
      "outputs": []
    },
    {
      "cell_type": "markdown",
      "source": [
        " Interview Questions & Answers"
      ],
      "metadata": {
        "id": "AME8A72k5B26"
      }
    },
    {
      "cell_type": "markdown",
      "source": [
        "1. What is the difference between WHERE and HAVING?\n",
        "\n",
        "WHERE filters rows before aggregation.\n",
        "\n",
        "HAVING filters groups after aggregation (used with GROUP BY).\n",
        "\n",
        "2. What are the different types of joins?\n",
        "\n",
        "INNER JOIN: only matching rows\n",
        "\n",
        "LEFT JOIN: all rows from left + matches from right\n",
        "\n",
        "RIGHT JOIN: all rows from right + matches from left\n",
        "\n",
        "FULL OUTER JOIN: all rows from both, matched or not (not supported in MySQL directly)\n",
        "\n",
        "3. How do you calculate average revenue per user in SQL?\n",
        "See the subquery under (d) above:\n",
        "\n",
        "sql\n",
        "Copy\n",
        "Edit\n",
        "SELECT AVG(user_total) FROM (SELECT user_id, SUM(total_amount) AS user_total FROM orders GROUP BY user_id) AS user_revenues;\n",
        "4. What are subqueries?\n",
        "\n",
        "A subquery is a query inside another query, used to filter, aggregate, or return values needed by the main query.\n",
        "\n",
        "5. How do you optimize a SQL query?\n",
        "\n",
        "Use indexes on frequently joined or filtered columns\n",
        "\n",
        "Avoid SELECT *\n",
        "\n",
        "Use EXPLAIN to analyze query performance\n",
        "\n",
        "Use proper data types\n",
        "\n",
        "Limit rows when not needed\n",
        "\n",
        "6. What is a view in SQL?\n",
        "\n",
        "A virtual table defined by a query. Used for simplifying complex queries, improving readability, or security.\n",
        "\n",
        "7. How would you handle null values in SQL?\n",
        "\n",
        "Use IS NULL / IS NOT NULL in conditions\n",
        "\n",
        "Use COALESCE(column, default) to substitute nulls\n",
        "\n",
        "Use NULLIF() to handle special cases in calculations"
      ],
      "metadata": {
        "id": "jofcvys93_ND"
      }
    }
  ],
  "metadata": {
    "kernelspec": {
      "display_name": "Python 3",
      "language": "python",
      "name": "python3"
    },
    "language_info": {
      "codemirror_mode": {
        "name": "ipython",
        "version": 3
      },
      "file_extension": ".py",
      "mimetype": "text/x-python",
      "name": "python",
      "nbconvert_exporter": "python",
      "pygments_lexer": "ipython3",
      "version": "3.7.4"
    },
    "colab": {
      "provenance": [],
      "include_colab_link": true
    }
  },
  "nbformat": 4,
  "nbformat_minor": 0
}